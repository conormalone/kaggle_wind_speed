{
 "cells": [
  {
   "cell_type": "code",
   "execution_count": 245,
   "metadata": {},
   "outputs": [],
   "source": [
    "import pandas as pd\n",
    "import numpy as np\n",
    "from scipy.spatial import distance_matrix\n",
    "import numpy as np\n",
    "import tensorflow\n",
    "import spektral\n",
    "from tensorflow.keras.layers import Dense\n",
    "from tensorflow.keras.models import Model\n",
    "from spektral.data import Dataset, BatchLoader, Graph\n",
    "from spektral.transforms.normalize_adj import NormalizeAdj\n",
    "from tensorflow.keras.layers import Dropout\n",
    "from spektral.layers import GCNConv, GlobalSumPool, GCSConv, GlobalAvgPool"
   ]
  },
  {
   "cell_type": "code",
   "execution_count": 246,
   "metadata": {},
   "outputs": [
    {
     "name": "stderr",
     "output_type": "stream",
     "text": [
      "C:\\Users\\conny\\AppData\\Local\\Temp\\ipykernel_17312\\1202832811.py:1: DtypeWarning: Columns (0,52) have mixed types. Specify dtype option on import or set low_memory=False.\n",
      "  df = pd.read_csv('train.csv', header=[0, 1])\n",
      "C:\\Users\\conny\\AppData\\Local\\Temp\\ipykernel_17312\\1202832811.py:2: DtypeWarning: Columns (0) have mixed types. Specify dtype option on import or set low_memory=False.\n",
      "  test_raw = pd.read_csv('test.csv', header=[0, 1])\n"
     ]
    },
    {
     "data": {
      "text/html": [
       "<div>\n",
       "<style scoped>\n",
       "    .dataframe tbody tr th:only-of-type {\n",
       "        vertical-align: middle;\n",
       "    }\n",
       "\n",
       "    .dataframe tbody tr th {\n",
       "        vertical-align: top;\n",
       "    }\n",
       "\n",
       "    .dataframe thead tr th {\n",
       "        text-align: left;\n",
       "    }\n",
       "</style>\n",
       "<table border=\"1\" class=\"dataframe\">\n",
       "  <thead>\n",
       "    <tr>\n",
       "      <th></th>\n",
       "      <th>Unnamed: 0_level_0</th>\n",
       "      <th>Timestamp</th>\n",
       "      <th colspan=\"5\" halign=\"left\">Wind speed (m/s)</th>\n",
       "      <th colspan=\"3\" halign=\"left\">Wind speed, Standard deviation (m/s)</th>\n",
       "      <th>...</th>\n",
       "      <th colspan=\"3\" halign=\"left\">Generator RPM (RPM)</th>\n",
       "      <th colspan=\"5\" halign=\"left\">Blade angle (pitch position) A (°)</th>\n",
       "      <th>training</th>\n",
       "      <th>target_feature</th>\n",
       "    </tr>\n",
       "    <tr>\n",
       "      <th></th>\n",
       "      <th>Turbine</th>\n",
       "      <th>Unnamed: 1_level_1</th>\n",
       "      <th>Kelmarsh 2</th>\n",
       "      <th>Kelmarsh 3</th>\n",
       "      <th>Kelmarsh 4</th>\n",
       "      <th>Kelmarsh 5</th>\n",
       "      <th>Kelmarsh 6</th>\n",
       "      <th>Kelmarsh 2</th>\n",
       "      <th>Kelmarsh 3</th>\n",
       "      <th>Kelmarsh 4</th>\n",
       "      <th>...</th>\n",
       "      <th>Kelmarsh 4</th>\n",
       "      <th>Kelmarsh 5</th>\n",
       "      <th>Kelmarsh 6</th>\n",
       "      <th>Kelmarsh 2</th>\n",
       "      <th>Kelmarsh 3</th>\n",
       "      <th>Kelmarsh 4</th>\n",
       "      <th>Kelmarsh 5</th>\n",
       "      <th>Kelmarsh 6</th>\n",
       "      <th>Unnamed: 52_level_1</th>\n",
       "      <th>Unnamed: 53_level_1</th>\n",
       "    </tr>\n",
       "  </thead>\n",
       "  <tbody>\n",
       "    <tr>\n",
       "      <th>0</th>\n",
       "      <td>id</td>\n",
       "      <td>NaN</td>\n",
       "      <td>NaN</td>\n",
       "      <td>NaN</td>\n",
       "      <td>NaN</td>\n",
       "      <td>NaN</td>\n",
       "      <td>NaN</td>\n",
       "      <td>NaN</td>\n",
       "      <td>NaN</td>\n",
       "      <td>NaN</td>\n",
       "      <td>...</td>\n",
       "      <td>NaN</td>\n",
       "      <td>NaN</td>\n",
       "      <td>NaN</td>\n",
       "      <td>NaN</td>\n",
       "      <td>NaN</td>\n",
       "      <td>NaN</td>\n",
       "      <td>NaN</td>\n",
       "      <td>NaN</td>\n",
       "      <td>NaN</td>\n",
       "      <td>NaN</td>\n",
       "    </tr>\n",
       "    <tr>\n",
       "      <th>1</th>\n",
       "      <td>0</td>\n",
       "      <td>2017-10-01 00:00:00</td>\n",
       "      <td>9.112875</td>\n",
       "      <td>9.197829</td>\n",
       "      <td>8.795919</td>\n",
       "      <td>8.749384</td>\n",
       "      <td>7.684954</td>\n",
       "      <td>1.104222</td>\n",
       "      <td>1.096619</td>\n",
       "      <td>0.999588</td>\n",
       "      <td>...</td>\n",
       "      <td>1768.215088</td>\n",
       "      <td>1733.296875</td>\n",
       "      <td>1603.749390</td>\n",
       "      <td>0.183487</td>\n",
       "      <td>0.135490</td>\n",
       "      <td>0.001053</td>\n",
       "      <td>0.0000</td>\n",
       "      <td>0.000</td>\n",
       "      <td>True</td>\n",
       "      <td>8.602844</td>\n",
       "    </tr>\n",
       "    <tr>\n",
       "      <th>2</th>\n",
       "      <td>1</td>\n",
       "      <td>2017-10-01 00:10:00</td>\n",
       "      <td>8.319863</td>\n",
       "      <td>9.350296</td>\n",
       "      <td>8.762059</td>\n",
       "      <td>8.652318</td>\n",
       "      <td>7.421576</td>\n",
       "      <td>1.207655</td>\n",
       "      <td>0.916610</td>\n",
       "      <td>0.956899</td>\n",
       "      <td>...</td>\n",
       "      <td>1770.806885</td>\n",
       "      <td>1737.218262</td>\n",
       "      <td>1572.769409</td>\n",
       "      <td>0.051998</td>\n",
       "      <td>0.086999</td>\n",
       "      <td>0.095998</td>\n",
       "      <td>0.0605</td>\n",
       "      <td>0.000</td>\n",
       "      <td>True</td>\n",
       "      <td>8.125226</td>\n",
       "    </tr>\n",
       "    <tr>\n",
       "      <th>3</th>\n",
       "      <td>2</td>\n",
       "      <td>2017-10-01 00:20:00</td>\n",
       "      <td>8.799176</td>\n",
       "      <td>8.510402</td>\n",
       "      <td>9.533566</td>\n",
       "      <td>8.166586</td>\n",
       "      <td>7.797040</td>\n",
       "      <td>1.124029</td>\n",
       "      <td>0.992841</td>\n",
       "      <td>1.343180</td>\n",
       "      <td>...</td>\n",
       "      <td>1766.002319</td>\n",
       "      <td>1698.699219</td>\n",
       "      <td>1655.049316</td>\n",
       "      <td>0.168988</td>\n",
       "      <td>0.056997</td>\n",
       "      <td>0.087998</td>\n",
       "      <td>0.0090</td>\n",
       "      <td>0.016</td>\n",
       "      <td>True</td>\n",
       "      <td>7.551986</td>\n",
       "    </tr>\n",
       "    <tr>\n",
       "      <th>4</th>\n",
       "      <td>3</td>\n",
       "      <td>2017-10-01 00:30:00</td>\n",
       "      <td>8.392921</td>\n",
       "      <td>8.825861</td>\n",
       "      <td>8.990985</td>\n",
       "      <td>7.877046</td>\n",
       "      <td>7.750090</td>\n",
       "      <td>1.219647</td>\n",
       "      <td>1.218454</td>\n",
       "      <td>0.970566</td>\n",
       "      <td>...</td>\n",
       "      <td>1783.569824</td>\n",
       "      <td>1661.264526</td>\n",
       "      <td>1678.571777</td>\n",
       "      <td>0.084492</td>\n",
       "      <td>0.133995</td>\n",
       "      <td>0.017500</td>\n",
       "      <td>0.0000</td>\n",
       "      <td>0.000</td>\n",
       "      <td>True</td>\n",
       "      <td>7.912114</td>\n",
       "    </tr>\n",
       "  </tbody>\n",
       "</table>\n",
       "<p>5 rows × 54 columns</p>\n",
       "</div>"
      ],
      "text/plain": [
       "  Unnamed: 0_level_0            Timestamp Wind speed (m/s)             \\\n",
       "             Turbine   Unnamed: 1_level_1       Kelmarsh 2 Kelmarsh 3   \n",
       "0                 id                  NaN              NaN        NaN   \n",
       "1                  0  2017-10-01 00:00:00         9.112875   9.197829   \n",
       "2                  1  2017-10-01 00:10:00         8.319863   9.350296   \n",
       "3                  2  2017-10-01 00:20:00         8.799176   8.510402   \n",
       "4                  3  2017-10-01 00:30:00         8.392921   8.825861   \n",
       "\n",
       "                                   Wind speed, Standard deviation (m/s)  \\\n",
       "  Kelmarsh 4 Kelmarsh 5 Kelmarsh 6                           Kelmarsh 2   \n",
       "0        NaN        NaN        NaN                                  NaN   \n",
       "1   8.795919   8.749384   7.684954                             1.104222   \n",
       "2   8.762059   8.652318   7.421576                             1.207655   \n",
       "3   9.533566   8.166586   7.797040                             1.124029   \n",
       "4   8.990985   7.877046   7.750090                             1.219647   \n",
       "\n",
       "                         ... Generator RPM (RPM)                            \\\n",
       "  Kelmarsh 3 Kelmarsh 4  ...          Kelmarsh 4   Kelmarsh 5   Kelmarsh 6   \n",
       "0        NaN        NaN  ...                 NaN          NaN          NaN   \n",
       "1   1.096619   0.999588  ...         1768.215088  1733.296875  1603.749390   \n",
       "2   0.916610   0.956899  ...         1770.806885  1737.218262  1572.769409   \n",
       "3   0.992841   1.343180  ...         1766.002319  1698.699219  1655.049316   \n",
       "4   1.218454   0.970566  ...         1783.569824  1661.264526  1678.571777   \n",
       "\n",
       "  Blade angle (pitch position) A (°)                                   \\\n",
       "                          Kelmarsh 2 Kelmarsh 3 Kelmarsh 4 Kelmarsh 5   \n",
       "0                                NaN        NaN        NaN        NaN   \n",
       "1                           0.183487   0.135490   0.001053     0.0000   \n",
       "2                           0.051998   0.086999   0.095998     0.0605   \n",
       "3                           0.168988   0.056997   0.087998     0.0090   \n",
       "4                           0.084492   0.133995   0.017500     0.0000   \n",
       "\n",
       "                        training      target_feature  \n",
       "  Kelmarsh 6 Unnamed: 52_level_1 Unnamed: 53_level_1  \n",
       "0        NaN                 NaN                 NaN  \n",
       "1      0.000                True            8.602844  \n",
       "2      0.000                True            8.125226  \n",
       "3      0.016                True            7.551986  \n",
       "4      0.000                True            7.912114  \n",
       "\n",
       "[5 rows x 54 columns]"
      ]
     },
     "execution_count": 246,
     "metadata": {},
     "output_type": "execute_result"
    }
   ],
   "source": [
    "\n",
    "df = pd.read_csv('train.csv', header=[0, 1])\n",
    "test_raw = pd.read_csv('test.csv', header=[0, 1])\n",
    "meta_df = pd.read_csv(\"metaData.csv\")\n",
    "#get target feature out of df\n",
    "target = df[['Timestamp',\"target_feature\"]].rename(columns={\"Unnamed: 1_level_1\":\"\",\"Unnamed: 53_level_1\":\"\"})\n",
    "target.columns = [''.join(col).strip() for col in target.columns] \n",
    "target.drop(target.iloc[0].name, inplace=True)\n",
    "target[\"Timestamp\"] = pd.to_datetime(target[\"Timestamp\"])\n",
    "\n",
    "df.head()"
   ]
  },
  {
   "cell_type": "code",
   "execution_count": 247,
   "metadata": {},
   "outputs": [
    {
     "data": {
      "text/plain": [
       "MultiIndex([(                      'Unnamed: 0_level_0', ...),\n",
       "            (                               'Timestamp', ...),\n",
       "            (                        'Wind speed (m/s)', ...),\n",
       "            (                        'Wind speed (m/s)', ...),\n",
       "            (                        'Wind speed (m/s)', ...),\n",
       "            (                        'Wind speed (m/s)', ...),\n",
       "            (                        'Wind speed (m/s)', ...),\n",
       "            (    'Wind speed, Standard deviation (m/s)', ...),\n",
       "            (    'Wind speed, Standard deviation (m/s)', ...),\n",
       "            (    'Wind speed, Standard deviation (m/s)', ...),\n",
       "            (    'Wind speed, Standard deviation (m/s)', ...),\n",
       "            (    'Wind speed, Standard deviation (m/s)', ...),\n",
       "            (                      'Wind direction (°)', ...),\n",
       "            (                      'Wind direction (°)', ...),\n",
       "            (                      'Wind direction (°)', ...),\n",
       "            (                      'Wind direction (°)', ...),\n",
       "            (                      'Wind direction (°)', ...),\n",
       "            (                    'Nacelle position (°)', ...),\n",
       "            (                    'Nacelle position (°)', ...),\n",
       "            (                    'Nacelle position (°)', ...),\n",
       "            (                    'Nacelle position (°)', ...),\n",
       "            (                    'Nacelle position (°)', ...),\n",
       "            ('Nacelle position, Standard deviation (°)', ...),\n",
       "            ('Nacelle position, Standard deviation (°)', ...),\n",
       "            ('Nacelle position, Standard deviation (°)', ...),\n",
       "            ('Nacelle position, Standard deviation (°)', ...),\n",
       "            ('Nacelle position, Standard deviation (°)', ...),\n",
       "            (                   'Vane position 1+2 (°)', ...),\n",
       "            (                   'Vane position 1+2 (°)', ...),\n",
       "            (                   'Vane position 1+2 (°)', ...),\n",
       "            (                   'Vane position 1+2 (°)', ...),\n",
       "            (                   'Vane position 1+2 (°)', ...),\n",
       "            (                              'Power (kW)', ...),\n",
       "            (                              'Power (kW)', ...),\n",
       "            (                              'Power (kW)', ...),\n",
       "            (                              'Power (kW)', ...),\n",
       "            (                              'Power (kW)', ...),\n",
       "            (        'Nacelle ambient temperature (°C)', ...),\n",
       "            (        'Nacelle ambient temperature (°C)', ...),\n",
       "            (        'Nacelle ambient temperature (°C)', ...),\n",
       "            (        'Nacelle ambient temperature (°C)', ...),\n",
       "            (        'Nacelle ambient temperature (°C)', ...),\n",
       "            (                     'Generator RPM (RPM)', ...),\n",
       "            (                     'Generator RPM (RPM)', ...),\n",
       "            (                     'Generator RPM (RPM)', ...),\n",
       "            (                     'Generator RPM (RPM)', ...),\n",
       "            (                     'Generator RPM (RPM)', ...),\n",
       "            (      'Blade angle (pitch position) A (°)', ...),\n",
       "            (      'Blade angle (pitch position) A (°)', ...),\n",
       "            (      'Blade angle (pitch position) A (°)', ...),\n",
       "            (      'Blade angle (pitch position) A (°)', ...),\n",
       "            (      'Blade angle (pitch position) A (°)', ...),\n",
       "            (                                'training', ...),\n",
       "            (                          'target_feature', ...)],\n",
       "           )"
      ]
     },
     "execution_count": 247,
     "metadata": {},
     "output_type": "execute_result"
    }
   ],
   "source": [
    "df.columns"
   ]
  },
  {
   "cell_type": "code",
   "execution_count": 248,
   "metadata": {},
   "outputs": [],
   "source": [
    "df.columns = ['_'.join(col).strip() for col in df.columns]  # Flatten multi-index\n",
    "#df = df[(df['Wind direction (°)_Kelmarsh 2']>45)&(df['Wind direction (°)_Kelmarsh 2']<135) ]\n",
    "df.rename(columns={\"Timestamp_Unnamed: 1_level_1\": \"Timestamp\"}, inplace=True)  # Rename timestamp\n",
    "df[\"Timestamp\"] = pd.to_datetime(df[\"Timestamp\"])\n",
    "df= df[~df[\"target_feature_Unnamed: 53_level_1\"].isna()]\n",
    "target = target[~target[\"target_feature\"].isna()]\n",
    "test_raw.columns = ['_'.join(col).strip() for col in test_raw.columns]  # Flatten multi-index\n",
    "test_raw.rename(columns={\"Timestamp_Unnamed: 1_level_1\": \"Timestamp\"}, inplace=True)  # Rename timestamp\n",
    "test_raw[\"Timestamp\"] = pd.to_datetime(test_raw[\"Timestamp\"])"
   ]
  },
  {
   "cell_type": "code",
   "execution_count": 249,
   "metadata": {},
   "outputs": [],
   "source": [
    "df_long = df.melt(id_vars=[\"Timestamp\"], \n",
    "                  var_name=\"Variable_Turbine\", \n",
    "                  value_name=\"Value\")\n",
    "\n",
    "# Split 'Variable_Turbine' into 'Variable' and 'Turbine'\n",
    "df_long[[\"Variable\", \"Turbine\"]] = df_long[\"Variable_Turbine\"].str.rsplit(\"_\", n=1, expand=True)\n",
    "df_long.drop(columns=[\"Variable_Turbine\"], inplace=True)\n",
    "df_long=df_long[df_long[\"Turbine\"].str.contains(\"Kelmarsh\")]\n",
    "df_long.head()  # View the reshaped dataframedf\n",
    "test_long = test_raw.melt(id_vars=[\"Timestamp\"], \n",
    "                  var_name=\"Variable_Turbine\", \n",
    "                  value_name=\"Value\")\n",
    "\n",
    "# Split 'Variable_Turbine' into 'Variable' and 'Turbine'\n",
    "test_long[[\"Variable\", \"Turbine\"]] = test_long[\"Variable_Turbine\"].str.rsplit(\"_\", n=1, expand=True)\n",
    "test_long.drop(columns=[\"Variable_Turbine\"], inplace=True)\n",
    "test_long=test_long[test_long[\"Turbine\"].str.contains(\"Kelmarsh\")]"
   ]
  },
  {
   "cell_type": "code",
   "execution_count": 250,
   "metadata": {},
   "outputs": [
    {
     "name": "stderr",
     "output_type": "stream",
     "text": [
      "C:\\Users\\conny\\AppData\\Local\\Temp\\ipykernel_17312\\1922771118.py:3: FutureWarning: Downcasting object dtype arrays on .fillna, .ffill, .bfill is deprecated and will change in a future version. Call result.infer_objects(copy=False) instead. To opt-in to the future behavior, set `pd.set_option('future.no_silent_downcasting', True)`\n",
      "  df_wide = df_wide.fillna(0)\n",
      "C:\\Users\\conny\\AppData\\Local\\Temp\\ipykernel_17312\\1922771118.py:6: FutureWarning: Downcasting object dtype arrays on .fillna, .ffill, .bfill is deprecated and will change in a future version. Call result.infer_objects(copy=False) instead. To opt-in to the future behavior, set `pd.set_option('future.no_silent_downcasting', True)`\n",
      "  test_wide = test_wide.fillna(0)\n"
     ]
    }
   ],
   "source": [
    "df_wide = df_long.pivot(index=['Timestamp', 'Turbine'], columns='Variable', values='Value').reset_index()\n",
    "df_wide = df_wide[df_wide[\"Timestamp\"].notna()]\n",
    "df_wide = df_wide.fillna(0)\n",
    "test_wide = test_long.pivot(index=['Timestamp', 'Turbine'], columns='Variable', values='Value').reset_index()\n",
    "test_wide = test_wide[test_wide[\"Timestamp\"].notna()]\n",
    "test_wide = test_wide.fillna(0)"
   ]
  },
  {
   "cell_type": "code",
   "execution_count": 251,
   "metadata": {},
   "outputs": [
    {
     "data": {
      "text/plain": [
       "<DatetimeArray>\n",
       "['2017-10-15 00:00:00', '2017-10-15 00:10:00', '2017-10-15 00:20:00',\n",
       " '2017-10-15 00:30:00', '2017-10-15 00:40:00', '2017-10-15 00:50:00',\n",
       " '2017-10-15 01:00:00', '2017-10-15 01:10:00', '2017-10-15 01:20:00',\n",
       " '2017-10-15 01:30:00',\n",
       " ...\n",
       " '2021-06-05 22:20:00', '2021-06-05 22:30:00', '2021-06-05 22:40:00',\n",
       " '2021-06-05 22:50:00', '2021-06-05 23:00:00', '2021-06-05 23:10:00',\n",
       " '2021-06-05 23:20:00', '2021-06-05 23:30:00', '2021-06-05 23:40:00',\n",
       " '2021-06-05 23:50:00']\n",
       "Length: 64512, dtype: datetime64[ns]"
      ]
     },
     "execution_count": 251,
     "metadata": {},
     "output_type": "execute_result"
    }
   ],
   "source": [
    "test_wide.Timestamp.unique()"
   ]
  },
  {
   "cell_type": "code",
   "execution_count": 252,
   "metadata": {},
   "outputs": [],
   "source": [
    "meta_df[\"total_hub_height\"] = meta_df[\"Hub Height (m)\"]  + meta_df[\"Elevation (m)\"] "
   ]
  },
  {
   "cell_type": "code",
   "execution_count": 253,
   "metadata": {},
   "outputs": [],
   "source": [
    "#df_wide_meta = df_wide.merge(meta_df, left_on=\"Turbine\",right_on=\"Title\")"
   ]
  },
  {
   "cell_type": "code",
   "execution_count": 254,
   "metadata": {},
   "outputs": [],
   "source": [
    "df_final = df_wide.merge(target, on=\"Timestamp\")"
   ]
  },
  {
   "cell_type": "code",
   "execution_count": 255,
   "metadata": {},
   "outputs": [
    {
     "data": {
      "text/plain": [
       "Index(['Timestamp', 'Turbine', 'Blade angle (pitch position) A (°)',\n",
       "       'Generator RPM (RPM)', 'Nacelle ambient temperature (°C)',\n",
       "       'Nacelle position (°)', 'Nacelle position, Standard deviation (°)',\n",
       "       'Power (kW)', 'Vane position 1+2 (°)', 'Wind direction (°)',\n",
       "       'Wind speed (m/s)', 'Wind speed, Standard deviation (m/s)',\n",
       "       'target_feature'],\n",
       "      dtype='object')"
      ]
     },
     "execution_count": 255,
     "metadata": {},
     "output_type": "execute_result"
    }
   ],
   "source": [
    "df_final.columns"
   ]
  },
  {
   "cell_type": "code",
   "execution_count": 256,
   "metadata": {},
   "outputs": [],
   "source": [
    "meta_df = meta_df[meta_df.Title != \"Kelmarsh 1\"]"
   ]
  },
  {
   "cell_type": "code",
   "execution_count": 257,
   "metadata": {},
   "outputs": [
    {
     "data": {
      "text/html": [
       "<div>\n",
       "<style scoped>\n",
       "    .dataframe tbody tr th:only-of-type {\n",
       "        vertical-align: middle;\n",
       "    }\n",
       "\n",
       "    .dataframe tbody tr th {\n",
       "        vertical-align: top;\n",
       "    }\n",
       "\n",
       "    .dataframe thead th {\n",
       "        text-align: right;\n",
       "    }\n",
       "</style>\n",
       "<table border=\"1\" class=\"dataframe\">\n",
       "  <thead>\n",
       "    <tr style=\"text-align: right;\">\n",
       "      <th></th>\n",
       "      <th>Wind Farm</th>\n",
       "      <th>Title</th>\n",
       "      <th>Alternative Title</th>\n",
       "      <th>Identity</th>\n",
       "      <th>Manufacturer</th>\n",
       "      <th>Model</th>\n",
       "      <th>Rated power (kW)</th>\n",
       "      <th>Hub Height (m)</th>\n",
       "      <th>Rotor Diameter (m)</th>\n",
       "      <th>Latitude</th>\n",
       "      <th>Longitude</th>\n",
       "      <th>Elevation (m)</th>\n",
       "      <th>Country</th>\n",
       "      <th>Commercial Operations Date</th>\n",
       "      <th>total_hub_height</th>\n",
       "    </tr>\n",
       "  </thead>\n",
       "  <tbody>\n",
       "    <tr>\n",
       "      <th>1</th>\n",
       "      <td>Kelmarsh</td>\n",
       "      <td>Kelmarsh 2</td>\n",
       "      <td>KWF2</td>\n",
       "      <td>SEN 93421</td>\n",
       "      <td>Senvion</td>\n",
       "      <td>MM92</td>\n",
       "      <td>2050</td>\n",
       "      <td>78.5</td>\n",
       "      <td>92</td>\n",
       "      <td>52.402551</td>\n",
       "      <td>-0.949527</td>\n",
       "      <td>156.577</td>\n",
       "      <td>UK</td>\n",
       "      <td>15/04/2016</td>\n",
       "      <td>235.077</td>\n",
       "    </tr>\n",
       "    <tr>\n",
       "      <th>2</th>\n",
       "      <td>Kelmarsh</td>\n",
       "      <td>Kelmarsh 3</td>\n",
       "      <td>KWF3</td>\n",
       "      <td>SEN 93422</td>\n",
       "      <td>Senvion</td>\n",
       "      <td>MM92</td>\n",
       "      <td>2050</td>\n",
       "      <td>68.5</td>\n",
       "      <td>92</td>\n",
       "      <td>52.403834</td>\n",
       "      <td>-0.944190</td>\n",
       "      <td>153.477</td>\n",
       "      <td>UK</td>\n",
       "      <td>15/04/2016</td>\n",
       "      <td>221.977</td>\n",
       "    </tr>\n",
       "    <tr>\n",
       "      <th>3</th>\n",
       "      <td>Kelmarsh</td>\n",
       "      <td>Kelmarsh 4</td>\n",
       "      <td>KWF4</td>\n",
       "      <td>SEN 93423</td>\n",
       "      <td>Senvion</td>\n",
       "      <td>MM92</td>\n",
       "      <td>2050</td>\n",
       "      <td>78.5</td>\n",
       "      <td>92</td>\n",
       "      <td>52.398781</td>\n",
       "      <td>-0.941150</td>\n",
       "      <td>146.313</td>\n",
       "      <td>UK</td>\n",
       "      <td>15/04/2016</td>\n",
       "      <td>224.813</td>\n",
       "    </tr>\n",
       "    <tr>\n",
       "      <th>4</th>\n",
       "      <td>Kelmarsh</td>\n",
       "      <td>Kelmarsh 5</td>\n",
       "      <td>KWF5</td>\n",
       "      <td>SEN 93424</td>\n",
       "      <td>Senvion</td>\n",
       "      <td>MM92</td>\n",
       "      <td>2050</td>\n",
       "      <td>78.5</td>\n",
       "      <td>92</td>\n",
       "      <td>52.402308</td>\n",
       "      <td>-0.940537</td>\n",
       "      <td>142.901</td>\n",
       "      <td>UK</td>\n",
       "      <td>15/04/2016</td>\n",
       "      <td>221.401</td>\n",
       "    </tr>\n",
       "    <tr>\n",
       "      <th>5</th>\n",
       "      <td>Kelmarsh</td>\n",
       "      <td>Kelmarsh 6</td>\n",
       "      <td>KWF6</td>\n",
       "      <td>SEN 93425</td>\n",
       "      <td>Senvion</td>\n",
       "      <td>MM92</td>\n",
       "      <td>2050</td>\n",
       "      <td>68.5</td>\n",
       "      <td>92</td>\n",
       "      <td>52.400687</td>\n",
       "      <td>-0.936093</td>\n",
       "      <td>135.039</td>\n",
       "      <td>UK</td>\n",
       "      <td>15/04/2016</td>\n",
       "      <td>203.539</td>\n",
       "    </tr>\n",
       "  </tbody>\n",
       "</table>\n",
       "</div>"
      ],
      "text/plain": [
       "  Wind Farm       Title Alternative Title   Identity Manufacturer Model  \\\n",
       "1  Kelmarsh  Kelmarsh 2              KWF2  SEN 93421      Senvion  MM92   \n",
       "2  Kelmarsh  Kelmarsh 3              KWF3  SEN 93422      Senvion  MM92   \n",
       "3  Kelmarsh  Kelmarsh 4              KWF4  SEN 93423      Senvion  MM92   \n",
       "4  Kelmarsh  Kelmarsh 5              KWF5  SEN 93424      Senvion  MM92   \n",
       "5  Kelmarsh  Kelmarsh 6              KWF6  SEN 93425      Senvion  MM92   \n",
       "\n",
       "   Rated power (kW)  Hub Height (m)  Rotor Diameter (m)   Latitude  Longitude  \\\n",
       "1              2050            78.5                  92  52.402551  -0.949527   \n",
       "2              2050            68.5                  92  52.403834  -0.944190   \n",
       "3              2050            78.5                  92  52.398781  -0.941150   \n",
       "4              2050            78.5                  92  52.402308  -0.940537   \n",
       "5              2050            68.5                  92  52.400687  -0.936093   \n",
       "\n",
       "   Elevation (m) Country Commercial Operations Date  total_hub_height  \n",
       "1        156.577      UK                 15/04/2016           235.077  \n",
       "2        153.477      UK                 15/04/2016           221.977  \n",
       "3        146.313      UK                 15/04/2016           224.813  \n",
       "4        142.901      UK                 15/04/2016           221.401  \n",
       "5        135.039      UK                 15/04/2016           203.539  "
      ]
     },
     "execution_count": 257,
     "metadata": {},
     "output_type": "execute_result"
    }
   ],
   "source": [
    "meta_df"
   ]
  },
  {
   "cell_type": "code",
   "execution_count": 258,
   "metadata": {},
   "outputs": [],
   "source": [
    "#get bearings between turbines\n",
    "def calculate_bearing_matrix(df):\n",
    "    \"\"\"\n",
    "    Returns a matrix where bearing_matrix[i][j] = angle from turbine i to j.\n",
    "    \"\"\"\n",
    "    lat = df['Latitude'].values\n",
    "    lon = df['Longitude'].values\n",
    "    n = len(df)\n",
    "    bearing_matrix = np.zeros((n, n))\n",
    "    \n",
    "    for i in range(n):\n",
    "        for j in range(n):\n",
    "            if i != j:\n",
    "                lat1, lon1, lat2, lon2 = map(np.radians, [lat[i], lon[i], lat[j], lon[j]])\n",
    "                dlon = lon2 - lon1\n",
    "                x = np.sin(dlon) * np.cos(lat2)\n",
    "                y = np.cos(lat1) * np.sin(lat2) - np.sin(lat1) * np.cos(lat2) * np.cos(dlon)\n",
    "                bearing = np.degrees(np.arctan2(x, y))\n",
    "                bearing_matrix[i][j] = (bearing + 360) % 360\n",
    "    return bearing_matrix"
   ]
  },
  {
   "cell_type": "code",
   "execution_count": 259,
   "metadata": {},
   "outputs": [
    {
     "data": {
      "text/plain": [
       "array([[  0.        ,  68.49202885, 126.40950146,  92.53317909,\n",
       "        102.80681547],\n",
       "       [248.49625748,   0.        , 159.84230795, 124.39809308,\n",
       "        122.49525874],\n",
       "       [306.41613853, 339.84471656,   0.        ,   6.05296291,\n",
       "         58.29339521],\n",
       "       [272.54030201, 304.40098743, 186.05344859,   0.        ,\n",
       "        120.87123328],\n",
       "       [282.81745932, 302.5016741 , 238.2974018 , 300.87475429,\n",
       "          0.        ]])"
      ]
     },
     "execution_count": 259,
     "metadata": {},
     "output_type": "execute_result"
    }
   ],
   "source": [
    "calculate_bearing_matrix(meta_df)"
   ]
  },
  {
   "cell_type": "code",
   "execution_count": 260,
   "metadata": {},
   "outputs": [],
   "source": [
    "def relative_wind_angle(wind_dir, bearing):\n",
    "    \"\"\"\n",
    "    Compute relative wind angle (if turbine is blocked)\n",
    "\n",
    "    Args:\n",
    "        wind_dir (column): wind direction variable\n",
    "        bearing (matrix): matrix of pairwise angles to turbines\n",
    "\n",
    "    Returns:\n",
    "        float: angle\n",
    "        \n",
    "    \"\"\"\n",
    "    wind_impact_dir = (wind_dir + 180) % 360  # Reverse wind direction\n",
    "    angle_diff = abs(wind_impact_dir - bearing) % 360\n",
    "    return min(angle_diff, 360 - angle_diff)"
   ]
  },
  {
   "cell_type": "code",
   "execution_count": 261,
   "metadata": {},
   "outputs": [],
   "source": [
    "def get_turbine_distances(meta_df):\n",
    "    \"\"\"\n",
    "    Compute pairwise distances between turbines.\n",
    "\n",
    "    Args:\n",
    "        meta_df (pd.DataFrame): DataFrame containing 'Latitude' and 'Longitude'.\n",
    "\n",
    "    Returns:\n",
    "        array: {(\"Turbine A\", \"Turbine B\"): (distance)}\n",
    "        \n",
    "    \"\"\"\n",
    "    coords = meta_df[['Latitude', 'Longitude']].values\n",
    "    \n",
    "    # Calculate pairwise distances\n",
    "    dist_matrix = distance_matrix(coords, coords)\n",
    "    \n",
    "    return dist_matrix"
   ]
  },
  {
   "cell_type": "code",
   "execution_count": 262,
   "metadata": {},
   "outputs": [],
   "source": [
    "def wind_dir_to_onehot(angles):\n",
    "    \"\"\"\n",
    "    Robust conversion of wind directions (0-360°) to 8-direction one-hot encoding.\n",
    "    Handles all edge cases including 0°, 360°, and values at bin boundaries.\n",
    "    \"\"\"\n",
    "    angles = np.array(angles)\n",
    "    \n",
    "    # Define direction bins and labels\n",
    "    #bins = [0, 22.5, 67.5, 112.5, 157.5, 202.5, 247.5, 292.5, 337.5, 360]\n",
    "    #labels = ['N', 'NE', 'E', 'SE', 'S', 'SW', 'W', 'NW']\n",
    "    bins = [0, 45, 135, 225, 315]\n",
    "    labels = ['N', 'E', 'S', 'W']\n",
    "    # Special handling for 360° (map to North)\n",
    "    angles = np.where(angles == 360, 0, angles)\n",
    "    \n",
    "    # Digitize and adjust indices\n",
    "    indices = np.digitize(angles, bins, right=False) - 1\n",
    "    indices = np.where(indices == 8, 0, indices)  # Handle 337.5-360° range\n",
    "    \n",
    "    # One-hot encoding\n",
    "    onehot = pd.DataFrame(0, index=range(len(angles)), columns=labels)\n",
    "    for i, label in enumerate(labels):\n",
    "        onehot[label] = (indices == i).astype(int)\n",
    "    onehot =onehot.fillna(0)\n",
    "    return onehot\n"
   ]
  },
  {
   "cell_type": "code",
   "execution_count": 263,
   "metadata": {},
   "outputs": [],
   "source": [
    "turbine_distances = get_turbine_distances(meta_df)\n",
    "bearing_matrix = calculate_bearing_matrix(meta_df)"
   ]
  },
  {
   "cell_type": "code",
   "execution_count": 264,
   "metadata": {},
   "outputs": [
    {
     "data": {
      "text/plain": [
       "array([248.49625748,   0.        , 159.84230795, 124.39809308,\n",
       "       122.49525874])"
      ]
     },
     "execution_count": 264,
     "metadata": {},
     "output_type": "execute_result"
    }
   ],
   "source": [
    "bearing_matrix[1,:]"
   ]
  },
  {
   "attachments": {
    "image.png": {
     "image/png": "[encoded data removed]"
    }
   },
   "cell_type": "markdown",
   "metadata": {},
   "source": [
    "![image.png](attachment:image.png)"
   ]
  },
  {
   "cell_type": "markdown",
   "metadata": {},
   "source": [
    "Distance-Weighted Wake Influence:\n",
    "\n",
    "    Assign a wake influence score:\n",
    "    wij=1distance(i,j)⋅cos⁡(θij)\n",
    "    wij​=distance(i,j)1​⋅cos(θij​)\n",
    "\n",
    "    Use this as an edge weight in the GNN."
   ]
  },
  {
   "cell_type": "code",
   "execution_count": 265,
   "metadata": {},
   "outputs": [],
   "source": [
    "def get_woke(df):\n",
    "    \"\"\"\n",
    "    Compute pairwise wake alignment between turbines, will be adjacency matrix for model\n",
    "\n",
    "    Args:\n",
    "        meta_df (pd.DataFrame): DataFrame containing 'Latitude' and 'Longitude'.\n",
    "\n",
    "    Returns:\n",
    "        array: {(\"Turbine A\", \"Turbine B\"): (wake alignment)}\n",
    "        \n",
    "    \"\"\"\n",
    "    adj_matrix = np.empty((5,5))\n",
    "    \n",
    "    #for index, row in df.iterrows():\n",
    "        #print(row)\n",
    "        #subset_bearing = bearing[index,:]\n",
    "    for i in range(bearing_matrix.shape[0]):\n",
    "        for j in range(bearing_matrix.shape[0]):\n",
    "            #print(bearing_matrix[i,j])\n",
    "            rel_angle = relative_wind_angle(df[i][1], bearing_matrix[i,j])\n",
    "            wake_influence = (1/turbine_distances[i,j])*np.cos(rel_angle)\n",
    "            wake_inf = np.exp(-wake_influence / 30)\n",
    "            #adj_matrix[i,j] = rel_angle\n",
    "           \n",
    "            adj_matrix[i,j] = wake_inf\n",
    "            \n",
    "            adj_matrix[adj_matrix== -np.inf]= 0\n",
    "            adj_matrix[adj_matrix== np.inf]= 0\n",
    "            np.fill_diagonal(adj_matrix, 0)\n",
    "    return adj_matrix"
   ]
  },
  {
   "cell_type": "code",
   "execution_count": 266,
   "metadata": {},
   "outputs": [],
   "source": [
    "attempt1 = df_final[df_final.Timestamp=='2017-10-01 00:00:00']"
   ]
  },
  {
   "cell_type": "code",
   "execution_count": 267,
   "metadata": {},
   "outputs": [
    {
     "data": {
      "text/plain": [
       "Index(['Timestamp', 'Turbine', 'Blade angle (pitch position) A (°)',\n",
       "       'Generator RPM (RPM)', 'Nacelle ambient temperature (°C)',\n",
       "       'Nacelle position (°)', 'Nacelle position, Standard deviation (°)',\n",
       "       'Power (kW)', 'Vane position 1+2 (°)', 'Wind direction (°)',\n",
       "       'Wind speed (m/s)', 'Wind speed, Standard deviation (m/s)',\n",
       "       'target_feature'],\n",
       "      dtype='object')"
      ]
     },
     "execution_count": 267,
     "metadata": {},
     "output_type": "execute_result"
    }
   ],
   "source": [
    "df_final.columns"
   ]
  },
  {
   "cell_type": "code",
   "execution_count": 268,
   "metadata": {},
   "outputs": [],
   "source": [
    "def get_turbine_features(df):\n",
    "    \"\"\"\n",
    "    get features for turbines and order by turbine name\n",
    "\n",
    "    Args:\n",
    "        df (pd.DataFrame): DataFrame containing features for a timestamp\n",
    "        \n",
    "\n",
    "    Returns:\n",
    "        \n",
    "    \"\"\"\n",
    "    \n",
    "    features = df.sort_values(by=\"Turbine\")\n",
    "\n",
    "    #onehot_directions = wind_dir_to_onehot(features[\"Wind direction (°)\"])\n",
    "    #features= features.reset_index(drop=True)  # Ensure clean indices\n",
    "    #onehot_directions = onehot_directions.reset_index(drop=True)\n",
    "\n",
    "    \n",
    "\n",
    "    day_of_year = df['Timestamp'].dt.dayofyear\n",
    "    #features['daylight_hours'] = 8 + 4 * np.sin(2 * np.pi * (day_of_year - 80) / 365.25)\n",
    "    #features['is_peak_wind'] = np.where(df['Timestamp'].dt.month.isin([12, 1, 2]),1,0)\n",
    "\n",
    "    \n",
    "\n",
    "    #features['minute_sin'] = np.sin(2 * np.pi * df['Timestamp'].dt.minute / 60)\n",
    "    #features['minute_cos'] = np.cos(2 * np.pi * df['Timestamp'].dt.minute / 60)\n",
    "\n",
    "    #features['hour_sin'] = np.sin(2 * np.pi * df['Timestamp'].dt.hour / 24)\n",
    "    #features['hour_cos'] = np.cos(2 * np.pi * df['Timestamp'].dt.hour / 24)\n",
    "\n",
    "    #features['dayofyear_sin'] = np.sin(2 * np.pi * df['Timestamp'].dt.dayofyear / 365)\n",
    "    #features['dayofyear_cos'] = np.cos(2 * np.pi * df['Timestamp'].dt.dayofyear / 365)\n",
    "\n",
    "    #features['month_sin'] = np.sin(2 * np.pi * df['Timestamp'].dt.month / 12)\n",
    "    #features['month_cos'] = np.cos(2 * np.pi * df['Timestamp'].dt.month / 12)\n",
    "\n",
    "    #features[\"operational_flag\"] = np.where(features[\"Power (kW)\"]>50,1,0)\n",
    "    \n",
    "    #features = pd.concat([features, onehot_directions], axis=1)\n",
    "\n",
    "    #wind_cols = ['Wind direction (°)'\n",
    "    #          'Nacelle position (°)',\n",
    "    #           'Vane position 1+2 (°)']\n",
    "\n",
    "    #for col in wind_cols:\n",
    "    #    if col in df.columns:\n",
    "    #        features[f'{col}_sin'] = np.sin(np.radians(df[col]))\n",
    "    #        features[f'{col}_cos'] = np.cos(np.radians(df[col]))\n",
    "    features = features.drop([\"Timestamp\",\"Turbine\",\"target_feature\",'Generator RPM (RPM)',\n",
    "       'Nacelle ambient temperature (°C)','Wind speed, Standard deviation (m/s)',\n",
    "      'Nacelle position (°)', 'Nacelle position, Standard deviation (°)',\"Vane position 1+2 (°)\",\"Wind direction (°)\",'Blade angle (pitch position) A (°)'\n",
    "       ],axis=1, errors='ignore')#,'Power (kW)'\n",
    "    features = features.fillna(0)\n",
    "    features = np.array(features)\n",
    "    return features"
   ]
  },
  {
   "cell_type": "code",
   "execution_count": 269,
   "metadata": {},
   "outputs": [
    {
     "name": "stderr",
     "output_type": "stream",
     "text": [
      "C:\\Users\\conny\\AppData\\Local\\Temp\\ipykernel_17312\\3398579793.py:2: UserWarning: you are shuffling a 'DatetimeArray' object which is not a subclass of 'Sequence'; `shuffle` is not guaranteed to behave correctly. E.g., non-numpy array/tensor objects with view semantics may contain duplicates after shuffling.\n",
      "  np.random.shuffle(unique_timestamps)  # shuffle in-place\n"
     ]
    }
   ],
   "source": [
    "unique_timestamps = df_final['Timestamp'].unique()  # replace 'timestamp' with your actual column name\n",
    "np.random.shuffle(unique_timestamps)  # shuffle in-place\n",
    "\n",
    "# Calculate split index (25% for validation)\n",
    "split_idx = int(len(unique_timestamps) * 0.75)\n",
    "\n",
    "# Split timestamps\n",
    "train_timestamps = unique_timestamps[:split_idx]\n",
    "val_timestamps = unique_timestamps[split_idx:]\n",
    "\n",
    "# Create train/validation DataFrames\n",
    "train_df = df_final[df_final['Timestamp'].isin(train_timestamps)]\n",
    "val_df = df_final[df_final['Timestamp'].isin(val_timestamps)]\n",
    "\n"
   ]
  },
  {
   "cell_type": "code",
   "execution_count": 270,
   "metadata": {},
   "outputs": [],
   "source": [
    "def get_data_graph_split(df, train=True):\n",
    "    data_split = {\"train_x\": [],\"train_a\": [],\"y\":[]}\n",
    "    for timestamp in df.Timestamp.unique():\n",
    "        subset = df[df.Timestamp==timestamp]\n",
    "        data_split[\"train_x\"].append(get_turbine_features(subset))\n",
    "        data_split[\"train_a\"].append(turbine_distances)\n",
    "        if train==True:\n",
    "            data_split[\"y\"].append(subset.target_feature.head(1))\n",
    "        else:\n",
    "            data_split[\"y\"].append(0)\n",
    "    \n",
    "    return data_split"
   ]
  },
  {
   "cell_type": "code",
   "execution_count": 271,
   "metadata": {},
   "outputs": [],
   "source": [
    "local_train = get_data_graph_split(train_df,True)\n",
    "local_val = get_data_graph_split(val_df, True)\n",
    "local_test = get_data_graph_split(test_wide,False)"
   ]
  },
  {
   "cell_type": "code",
   "execution_count": 272,
   "metadata": {},
   "outputs": [],
   "source": [
    "################################################################################\n",
    "# Config\n",
    "################################################################################\n",
    "learning_rate = 1e-2  # Learning rate\n",
    "epochs = 100  # Number of training epochs\n",
    "es_patience = 10  # Patience for early stopping\n",
    "batch_size = 15  # Batch size\n"
   ]
  },
  {
   "cell_type": "code",
   "execution_count": 273,
   "metadata": {},
   "outputs": [],
   "source": [
    "################################################################################\n",
    "# Load data\n",
    "################################################################################\n",
    "\n",
    "class GraphDataset(Dataset):\n",
    "    def __init__(self, n_samples, df, n_colors=240, **kwargs):\n",
    "        self.n_samples = n_samples\n",
    "        self.df = df  \n",
    "        self.n_colors = n_colors  \n",
    "        super().__init__(**kwargs)\n",
    "\n",
    "    def read(self):\n",
    "        output = []\n",
    "        for i in range(self.n_samples):\n",
    "            # Node features\n",
    "            iter_x = self.df[\"train_x\"][i].copy()\n",
    "            x = np.array(iter_x).reshape(5,2)\n",
    "\n",
    "            # Edges\n",
    "            iter_a =  get_woke(self.df[\"train_x\"][i].copy())\n",
    "            #print(iter_a)\n",
    "            a = np.array(iter_a).reshape(5,5)\n",
    "\n",
    "            # \n",
    "            y = np.zeros((240,))#self.df[\"y\"][i]#\n",
    "            #if int(self.df[\"y\"][i])>10:\n",
    "            #    y_index = int(100)\n",
    "            #else:\n",
    "            y_index = int(self.df[\"y\"][i]*10)#\n",
    "            y[:y_index] = 1\n",
    "           \n",
    "            output.append(Graph(x=x, a=a, y=y))\n",
    "            #print(i)\n",
    "        return(output)"
   ]
  },
  {
   "cell_type": "code",
   "execution_count": 274,
   "metadata": {},
   "outputs": [
    {
     "name": "stderr",
     "output_type": "stream",
     "text": [
      "C:\\Users\\conny\\AppData\\Local\\Temp\\ipykernel_17312\\3295834036.py:21: RuntimeWarning: divide by zero encountered in double_scalars\n",
      "  wake_influence = (1/turbine_distances[i,j])*np.cos(rel_angle)\n",
      "C:\\Users\\conny\\AppData\\Local\\Temp\\ipykernel_17312\\2944913769.py:29: FutureWarning: Calling int on a single element Series is deprecated and will raise a TypeError in the future. Use int(ser.iloc[0]) instead\n",
      "  y_index = int(self.df[\"y\"][i]*10)#\n",
      "C:\\Users\\conny\\AppData\\Local\\Temp\\ipykernel_17312\\3295834036.py:21: RuntimeWarning: divide by zero encountered in double_scalars\n",
      "  wake_influence = (1/turbine_distances[i,j])*np.cos(rel_angle)\n",
      "C:\\Users\\conny\\AppData\\Local\\Temp\\ipykernel_17312\\2944913769.py:29: FutureWarning: Calling int on a single element Series is deprecated and will raise a TypeError in the future. Use int(ser.iloc[0]) instead\n",
      "  y_index = int(self.df[\"y\"][i]*10)#\n",
      "C:\\Users\\conny\\AppData\\Local\\Temp\\ipykernel_17312\\3295834036.py:21: RuntimeWarning: divide by zero encountered in double_scalars\n",
      "  wake_influence = (1/turbine_distances[i,j])*np.cos(rel_angle)\n"
     ]
    }
   ],
   "source": [
    "\n",
    "# Train/valid/test split\n",
    "len_train = len(local_train[\"train_x\"])\n",
    "len_val = len(local_val[\"train_x\"])\n",
    "len_test = len(local_test[\"train_x\"])\n",
    "data_tr = GraphDataset(n_samples = len_train, df = local_train, transforms=NormalizeAdj())\n",
    "data_val = GraphDataset(n_samples = len_val, df = local_val, transforms=NormalizeAdj())\n",
    "data_te = GraphDataset(n_samples = len_test, df=local_test, transforms=NormalizeAdj())\n",
    "# Data loaders\n",
    "loader_tr = BatchLoader(data_tr, batch_size=batch_size, epochs=epochs)\n",
    "loader_val = BatchLoader(data_val, batch_size=batch_size)\n",
    "loader_te = BatchLoader(data_te, batch_size=batch_size)\n"
   ]
  },
  {
   "cell_type": "code",
   "execution_count": 275,
   "metadata": {},
   "outputs": [],
   "source": [
    "################################################################################\n",
    "# Build model\n",
    "################################################################################\n",
    "class BDB22GNN(Model):\n",
    "\n",
    "    def __init__(self, n_hidden, n_labels):\n",
    "        super().__init__()\n",
    "        self.graph_conv = GCNConv(n_hidden)\n",
    "        self.pool = GlobalSumPool()#Avg\n",
    "        self.dropout = Dropout(0.5)\n",
    "        self.dense = Dense(n_labels, 'sigmoid')\n",
    "\n",
    "    \n",
    "    def call(self, inputs):\n",
    "        out = self.graph_conv(inputs)\n",
    "        out = self.dropout(out)\n",
    "        out = self.pool(out)\n",
    "        out = self.dense(out)\n",
    "\n",
    "        return out"
   ]
  },
  {
   "cell_type": "code",
   "execution_count": 277,
   "metadata": {},
   "outputs": [
    {
     "name": "stderr",
     "output_type": "stream",
     "text": [
      "c:\\Users\\conny\\OneDrive\\Documents\\Projects\\wind_graph\\kaggle_wind_speed\\Lib\\site-packages\\spektral\\data\\utils.py:221: UserWarning: you are shuffling a 'GraphDataset' object which is not a subclass of 'Sequence'; `shuffle` is not guaranteed to behave correctly. E.g., non-numpy array/tensor objects with view semantics may contain duplicates after shuffling.\n",
      "  np.random.shuffle(a)\n"
     ]
    },
    {
     "name": "stdout",
     "output_type": "stream",
     "text": [
      "Epoch 1/100\n",
      "6471/6471 [==============================] - 69s 11ms/step - loss: 0.1270 - val_loss: 0.1281\n",
      "Epoch 2/100\n",
      "6471/6471 [==============================] - 69s 11ms/step - loss: 0.1363 - val_loss: 0.1408\n",
      "Epoch 3/100\n",
      "6471/6471 [==============================] - 86s 13ms/step - loss: 0.1418 - val_loss: 0.1441\n",
      "Epoch 4/100\n",
      "6471/6471 [==============================] - 73s 11ms/step - loss: 0.1475 - val_loss: 0.1495\n",
      "Epoch 5/100\n",
      "6471/6471 [==============================] - 76s 12ms/step - loss: 0.1533 - val_loss: 0.1552\n",
      "Epoch 6/100\n",
      "6471/6471 [==============================] - 71s 11ms/step - loss: 0.1571 - val_loss: 0.1588\n",
      "Epoch 7/100\n",
      "6471/6471 [==============================] - 67s 10ms/step - loss: 0.1586 - val_loss: 0.1588\n",
      "Epoch 8/100\n",
      "6471/6471 [==============================] - 67s 10ms/step - loss: 0.1586 - val_loss: 0.1590\n",
      "Epoch 9/100\n",
      "6471/6471 [==============================] - 68s 11ms/step - loss: 0.1586 - val_loss: 0.1588\n",
      "Epoch 10/100\n",
      "6471/6471 [==============================] - 78s 12ms/step - loss: 0.1586 - val_loss: 0.1588\n",
      "Epoch 11/100\n",
      "6471/6471 [==============================] - 73s 11ms/step - loss: 0.1586 - val_loss: 0.1588\n",
      "Epoch 12/100\n",
      "6471/6471 [==============================] - 76s 12ms/step - loss: 0.1586 - val_loss: 0.1589\n",
      "Epoch 13/100\n",
      "6471/6471 [==============================] - 75s 12ms/step - loss: 0.1586 - val_loss: 0.1588\n",
      "Epoch 14/100\n",
      "6471/6471 [==============================] - 84s 13ms/step - loss: 0.1586 - val_loss: 0.1590\n",
      "Epoch 15/100\n",
      "6471/6471 [==============================] - 88s 14ms/step - loss: 0.1586 - val_loss: 0.1588\n",
      "Epoch 16/100\n",
      "6471/6471 [==============================] - 78s 12ms/step - loss: 0.1586 - val_loss: 0.1588\n",
      "Epoch 17/100\n",
      "6471/6471 [==============================] - 76s 12ms/step - loss: 0.1586 - val_loss: 0.1589\n",
      "Epoch 18/100\n",
      "6471/6471 [==============================] - 78s 12ms/step - loss: 0.1586 - val_loss: 0.1588\n",
      "Epoch 19/100\n",
      "6471/6471 [==============================] - 72s 11ms/step - loss: 0.1586 - val_loss: 0.1590\n",
      "Epoch 20/100\n",
      "6471/6471 [==============================] - 68s 11ms/step - loss: 0.1586 - val_loss: 0.1587\n",
      "Epoch 21/100\n",
      "6471/6471 [==============================] - 71s 11ms/step - loss: 0.1586 - val_loss: 0.1591\n",
      "Epoch 22/100\n",
      "3188/6471 [=============>................] - ETA: 41s - loss: 0.1588"
     ]
    },
    {
     "ename": "KeyboardInterrupt",
     "evalue": "",
     "output_type": "error",
     "traceback": [
      "\u001b[31m---------------------------------------------------------------------------\u001b[39m",
      "\u001b[31mKeyboardInterrupt\u001b[39m                         Traceback (most recent call last)",
      "\u001b[36mCell\u001b[39m\u001b[36m \u001b[39m\u001b[32mIn[277]\u001b[39m\u001b[32m, line 5\u001b[39m\n\u001b[32m      1\u001b[39m model = BDB22GNN()\n\u001b[32m      2\u001b[39m model.compile(\u001b[33m'\u001b[39m\u001b[33madam\u001b[39m\u001b[33m'\u001b[39m, \u001b[33m\"\u001b[39m\u001b[33mmean_absolute_error\u001b[39m\u001b[33m\"\u001b[39m)\u001b[38;5;66;03m#\"\"mean_absolute_error\u001b[39;00m\n\u001b[32m----> \u001b[39m\u001b[32m5\u001b[39m \u001b[43mmodel\u001b[49m\u001b[43m.\u001b[49m\u001b[43mfit\u001b[49m\u001b[43m(\u001b[49m\u001b[43mloader_tr\u001b[49m\u001b[43m.\u001b[49m\u001b[43mload\u001b[49m\u001b[43m(\u001b[49m\u001b[43m)\u001b[49m\u001b[43m,\u001b[49m\u001b[43m \u001b[49m\u001b[43mvalidation_data\u001b[49m\u001b[43m=\u001b[49m\u001b[43m \u001b[49m\u001b[43mloader_val\u001b[49m\u001b[43m.\u001b[49m\u001b[43mload\u001b[49m\u001b[43m(\u001b[49m\u001b[43m)\u001b[49m\u001b[43m,\u001b[49m\u001b[43m \u001b[49m\u001b[43msteps_per_epoch\u001b[49m\u001b[43m=\u001b[49m\u001b[43mloader_tr\u001b[49m\u001b[43m.\u001b[49m\u001b[43msteps_per_epoch\u001b[49m\u001b[43m,\u001b[49m\u001b[43mvalidation_steps\u001b[49m\u001b[43m=\u001b[49m\u001b[43mloader_val\u001b[49m\u001b[43m.\u001b[49m\u001b[43msteps_per_epoch\u001b[49m\u001b[43m,\u001b[49m\n\u001b[32m      6\u001b[39m \u001b[43m     \u001b[49m\u001b[43mepochs\u001b[49m\u001b[43m=\u001b[49m\u001b[43mepochs\u001b[49m\u001b[43m)\u001b[49m\u001b[38;5;66;03m#\u001b[39;00m\n\u001b[32m      7\u001b[39m test_loss = model.evaluate(loader_te.load(), steps=loader_te.steps_per_epoch)\n\u001b[32m      9\u001b[39m \u001b[38;5;28mprint\u001b[39m(\u001b[33m'\u001b[39m\u001b[33mTest loss: \u001b[39m\u001b[38;5;132;01m{}\u001b[39;00m\u001b[33m'\u001b[39m.format(test_loss))\n",
      "\u001b[36mFile \u001b[39m\u001b[32mc:\\Users\\conny\\OneDrive\\Documents\\Projects\\wind_graph\\kaggle_wind_speed\\Lib\\site-packages\\keras\\src\\utils\\traceback_utils.py:65\u001b[39m, in \u001b[36mfilter_traceback.<locals>.error_handler\u001b[39m\u001b[34m(*args, **kwargs)\u001b[39m\n\u001b[32m     63\u001b[39m filtered_tb = \u001b[38;5;28;01mNone\u001b[39;00m\n\u001b[32m     64\u001b[39m \u001b[38;5;28;01mtry\u001b[39;00m:\n\u001b[32m---> \u001b[39m\u001b[32m65\u001b[39m     \u001b[38;5;28;01mreturn\u001b[39;00m \u001b[43mfn\u001b[49m\u001b[43m(\u001b[49m\u001b[43m*\u001b[49m\u001b[43margs\u001b[49m\u001b[43m,\u001b[49m\u001b[43m \u001b[49m\u001b[43m*\u001b[49m\u001b[43m*\u001b[49m\u001b[43mkwargs\u001b[49m\u001b[43m)\u001b[49m\n\u001b[32m     66\u001b[39m \u001b[38;5;28;01mexcept\u001b[39;00m \u001b[38;5;167;01mException\u001b[39;00m \u001b[38;5;28;01mas\u001b[39;00m e:\n\u001b[32m     67\u001b[39m     filtered_tb = _process_traceback_frames(e.__traceback__)\n",
      "\u001b[36mFile \u001b[39m\u001b[32mc:\\Users\\conny\\OneDrive\\Documents\\Projects\\wind_graph\\kaggle_wind_speed\\Lib\\site-packages\\keras\\src\\engine\\training.py:1783\u001b[39m, in \u001b[36mModel.fit\u001b[39m\u001b[34m(self, x, y, batch_size, epochs, verbose, callbacks, validation_split, validation_data, shuffle, class_weight, sample_weight, initial_epoch, steps_per_epoch, validation_steps, validation_batch_size, validation_freq, max_queue_size, workers, use_multiprocessing)\u001b[39m\n\u001b[32m   1775\u001b[39m \u001b[38;5;28;01mwith\u001b[39;00m tf.profiler.experimental.Trace(\n\u001b[32m   1776\u001b[39m     \u001b[33m\"\u001b[39m\u001b[33mtrain\u001b[39m\u001b[33m\"\u001b[39m,\n\u001b[32m   1777\u001b[39m     epoch_num=epoch,\n\u001b[32m   (...)\u001b[39m\u001b[32m   1780\u001b[39m     _r=\u001b[32m1\u001b[39m,\n\u001b[32m   1781\u001b[39m ):\n\u001b[32m   1782\u001b[39m     callbacks.on_train_batch_begin(step)\n\u001b[32m-> \u001b[39m\u001b[32m1783\u001b[39m     tmp_logs = \u001b[38;5;28;43mself\u001b[39;49m\u001b[43m.\u001b[49m\u001b[43mtrain_function\u001b[49m\u001b[43m(\u001b[49m\u001b[43miterator\u001b[49m\u001b[43m)\u001b[49m\n\u001b[32m   1784\u001b[39m     \u001b[38;5;28;01mif\u001b[39;00m data_handler.should_sync:\n\u001b[32m   1785\u001b[39m         context.async_wait()\n",
      "\u001b[36mFile \u001b[39m\u001b[32mc:\\Users\\conny\\OneDrive\\Documents\\Projects\\wind_graph\\kaggle_wind_speed\\Lib\\site-packages\\tensorflow\\python\\util\\traceback_utils.py:150\u001b[39m, in \u001b[36mfilter_traceback.<locals>.error_handler\u001b[39m\u001b[34m(*args, **kwargs)\u001b[39m\n\u001b[32m    148\u001b[39m filtered_tb = \u001b[38;5;28;01mNone\u001b[39;00m\n\u001b[32m    149\u001b[39m \u001b[38;5;28;01mtry\u001b[39;00m:\n\u001b[32m--> \u001b[39m\u001b[32m150\u001b[39m   \u001b[38;5;28;01mreturn\u001b[39;00m \u001b[43mfn\u001b[49m\u001b[43m(\u001b[49m\u001b[43m*\u001b[49m\u001b[43margs\u001b[49m\u001b[43m,\u001b[49m\u001b[43m \u001b[49m\u001b[43m*\u001b[49m\u001b[43m*\u001b[49m\u001b[43mkwargs\u001b[49m\u001b[43m)\u001b[49m\n\u001b[32m    151\u001b[39m \u001b[38;5;28;01mexcept\u001b[39;00m \u001b[38;5;167;01mException\u001b[39;00m \u001b[38;5;28;01mas\u001b[39;00m e:\n\u001b[32m    152\u001b[39m   filtered_tb = _process_traceback_frames(e.__traceback__)\n",
      "\u001b[36mFile \u001b[39m\u001b[32mc:\\Users\\conny\\OneDrive\\Documents\\Projects\\wind_graph\\kaggle_wind_speed\\Lib\\site-packages\\tensorflow\\python\\eager\\polymorphic_function\\polymorphic_function.py:831\u001b[39m, in \u001b[36mFunction.__call__\u001b[39m\u001b[34m(self, *args, **kwds)\u001b[39m\n\u001b[32m    828\u001b[39m compiler = \u001b[33m\"\u001b[39m\u001b[33mxla\u001b[39m\u001b[33m\"\u001b[39m \u001b[38;5;28;01mif\u001b[39;00m \u001b[38;5;28mself\u001b[39m._jit_compile \u001b[38;5;28;01melse\u001b[39;00m \u001b[33m\"\u001b[39m\u001b[33mnonXla\u001b[39m\u001b[33m\"\u001b[39m\n\u001b[32m    830\u001b[39m \u001b[38;5;28;01mwith\u001b[39;00m OptionalXlaContext(\u001b[38;5;28mself\u001b[39m._jit_compile):\n\u001b[32m--> \u001b[39m\u001b[32m831\u001b[39m   result = \u001b[38;5;28;43mself\u001b[39;49m\u001b[43m.\u001b[49m\u001b[43m_call\u001b[49m\u001b[43m(\u001b[49m\u001b[43m*\u001b[49m\u001b[43margs\u001b[49m\u001b[43m,\u001b[49m\u001b[43m \u001b[49m\u001b[43m*\u001b[49m\u001b[43m*\u001b[49m\u001b[43mkwds\u001b[49m\u001b[43m)\u001b[49m\n\u001b[32m    833\u001b[39m new_tracing_count = \u001b[38;5;28mself\u001b[39m.experimental_get_tracing_count()\n\u001b[32m    834\u001b[39m without_tracing = (tracing_count == new_tracing_count)\n",
      "\u001b[36mFile \u001b[39m\u001b[32mc:\\Users\\conny\\OneDrive\\Documents\\Projects\\wind_graph\\kaggle_wind_speed\\Lib\\site-packages\\tensorflow\\python\\eager\\polymorphic_function\\polymorphic_function.py:867\u001b[39m, in \u001b[36mFunction._call\u001b[39m\u001b[34m(self, *args, **kwds)\u001b[39m\n\u001b[32m    864\u001b[39m   \u001b[38;5;28mself\u001b[39m._lock.release()\n\u001b[32m    865\u001b[39m   \u001b[38;5;66;03m# In this case we have created variables on the first call, so we run the\u001b[39;00m\n\u001b[32m    866\u001b[39m   \u001b[38;5;66;03m# defunned version which is guaranteed to never create variables.\u001b[39;00m\n\u001b[32m--> \u001b[39m\u001b[32m867\u001b[39m   \u001b[38;5;28;01mreturn\u001b[39;00m \u001b[43mtracing_compilation\u001b[49m\u001b[43m.\u001b[49m\u001b[43mcall_function\u001b[49m\u001b[43m(\u001b[49m\n\u001b[32m    868\u001b[39m \u001b[43m      \u001b[49m\u001b[43margs\u001b[49m\u001b[43m,\u001b[49m\u001b[43m \u001b[49m\u001b[43mkwds\u001b[49m\u001b[43m,\u001b[49m\u001b[43m \u001b[49m\u001b[38;5;28;43mself\u001b[39;49m\u001b[43m.\u001b[49m\u001b[43m_no_variable_creation_config\u001b[49m\n\u001b[32m    869\u001b[39m \u001b[43m  \u001b[49m\u001b[43m)\u001b[49m\n\u001b[32m    870\u001b[39m \u001b[38;5;28;01melif\u001b[39;00m \u001b[38;5;28mself\u001b[39m._variable_creation_config \u001b[38;5;129;01mis\u001b[39;00m \u001b[38;5;129;01mnot\u001b[39;00m \u001b[38;5;28;01mNone\u001b[39;00m:\n\u001b[32m    871\u001b[39m   \u001b[38;5;66;03m# Release the lock early so that multiple threads can perform the call\u001b[39;00m\n\u001b[32m    872\u001b[39m   \u001b[38;5;66;03m# in parallel.\u001b[39;00m\n\u001b[32m    873\u001b[39m   \u001b[38;5;28mself\u001b[39m._lock.release()\n",
      "\u001b[36mFile \u001b[39m\u001b[32mc:\\Users\\conny\\OneDrive\\Documents\\Projects\\wind_graph\\kaggle_wind_speed\\Lib\\site-packages\\tensorflow\\python\\eager\\polymorphic_function\\tracing_compilation.py:139\u001b[39m, in \u001b[36mcall_function\u001b[39m\u001b[34m(args, kwargs, tracing_options)\u001b[39m\n\u001b[32m    137\u001b[39m bound_args = function.function_type.bind(*args, **kwargs)\n\u001b[32m    138\u001b[39m flat_inputs = function.function_type.unpack_inputs(bound_args)\n\u001b[32m--> \u001b[39m\u001b[32m139\u001b[39m \u001b[38;5;28;01mreturn\u001b[39;00m \u001b[43mfunction\u001b[49m\u001b[43m.\u001b[49m\u001b[43m_call_flat\u001b[49m\u001b[43m(\u001b[49m\u001b[43m  \u001b[49m\u001b[38;5;66;43;03m# pylint: disable=protected-access\u001b[39;49;00m\n\u001b[32m    140\u001b[39m \u001b[43m    \u001b[49m\u001b[43mflat_inputs\u001b[49m\u001b[43m,\u001b[49m\u001b[43m \u001b[49m\u001b[43mcaptured_inputs\u001b[49m\u001b[43m=\u001b[49m\u001b[43mfunction\u001b[49m\u001b[43m.\u001b[49m\u001b[43mcaptured_inputs\u001b[49m\n\u001b[32m    141\u001b[39m \u001b[43m\u001b[49m\u001b[43m)\u001b[49m\n",
      "\u001b[36mFile \u001b[39m\u001b[32mc:\\Users\\conny\\OneDrive\\Documents\\Projects\\wind_graph\\kaggle_wind_speed\\Lib\\site-packages\\tensorflow\\python\\eager\\polymorphic_function\\concrete_function.py:1264\u001b[39m, in \u001b[36mConcreteFunction._call_flat\u001b[39m\u001b[34m(self, tensor_inputs, captured_inputs)\u001b[39m\n\u001b[32m   1260\u001b[39m possible_gradient_type = gradients_util.PossibleTapeGradientTypes(args)\n\u001b[32m   1261\u001b[39m \u001b[38;5;28;01mif\u001b[39;00m (possible_gradient_type == gradients_util.POSSIBLE_GRADIENT_TYPES_NONE\n\u001b[32m   1262\u001b[39m     \u001b[38;5;129;01mand\u001b[39;00m executing_eagerly):\n\u001b[32m   1263\u001b[39m   \u001b[38;5;66;03m# No tape is watching; skip to running the function.\u001b[39;00m\n\u001b[32m-> \u001b[39m\u001b[32m1264\u001b[39m   \u001b[38;5;28;01mreturn\u001b[39;00m \u001b[38;5;28;43mself\u001b[39;49m\u001b[43m.\u001b[49m\u001b[43m_inference_function\u001b[49m\u001b[43m.\u001b[49m\u001b[43mflat_call\u001b[49m\u001b[43m(\u001b[49m\u001b[43margs\u001b[49m\u001b[43m)\u001b[49m\n\u001b[32m   1265\u001b[39m forward_backward = \u001b[38;5;28mself\u001b[39m._select_forward_and_backward_functions(\n\u001b[32m   1266\u001b[39m     args,\n\u001b[32m   1267\u001b[39m     possible_gradient_type,\n\u001b[32m   1268\u001b[39m     executing_eagerly)\n\u001b[32m   1269\u001b[39m forward_function, args_with_tangents = forward_backward.forward()\n",
      "\u001b[36mFile \u001b[39m\u001b[32mc:\\Users\\conny\\OneDrive\\Documents\\Projects\\wind_graph\\kaggle_wind_speed\\Lib\\site-packages\\tensorflow\\python\\eager\\polymorphic_function\\atomic_function.py:217\u001b[39m, in \u001b[36mAtomicFunction.flat_call\u001b[39m\u001b[34m(self, args)\u001b[39m\n\u001b[32m    215\u001b[39m \u001b[38;5;28;01mdef\u001b[39;00m\u001b[38;5;250m \u001b[39m\u001b[34mflat_call\u001b[39m(\u001b[38;5;28mself\u001b[39m, args: Sequence[core.Tensor]) -> Any:\n\u001b[32m    216\u001b[39m \u001b[38;5;250m  \u001b[39m\u001b[33;03m\"\"\"Calls with tensor inputs and returns the structured output.\"\"\"\u001b[39;00m\n\u001b[32m--> \u001b[39m\u001b[32m217\u001b[39m   flat_outputs = \u001b[38;5;28;43mself\u001b[39;49m\u001b[43m(\u001b[49m\u001b[43m*\u001b[49m\u001b[43margs\u001b[49m\u001b[43m)\u001b[49m\n\u001b[32m    218\u001b[39m   \u001b[38;5;28;01mreturn\u001b[39;00m \u001b[38;5;28mself\u001b[39m.function_type.pack_output(flat_outputs)\n",
      "\u001b[36mFile \u001b[39m\u001b[32mc:\\Users\\conny\\OneDrive\\Documents\\Projects\\wind_graph\\kaggle_wind_speed\\Lib\\site-packages\\tensorflow\\python\\eager\\polymorphic_function\\atomic_function.py:252\u001b[39m, in \u001b[36mAtomicFunction.__call__\u001b[39m\u001b[34m(self, *args)\u001b[39m\n\u001b[32m    250\u001b[39m \u001b[38;5;28;01mwith\u001b[39;00m record.stop_recording():\n\u001b[32m    251\u001b[39m   \u001b[38;5;28;01mif\u001b[39;00m \u001b[38;5;28mself\u001b[39m._bound_context.executing_eagerly():\n\u001b[32m--> \u001b[39m\u001b[32m252\u001b[39m     outputs = \u001b[38;5;28;43mself\u001b[39;49m\u001b[43m.\u001b[49m\u001b[43m_bound_context\u001b[49m\u001b[43m.\u001b[49m\u001b[43mcall_function\u001b[49m\u001b[43m(\u001b[49m\n\u001b[32m    253\u001b[39m \u001b[43m        \u001b[49m\u001b[38;5;28;43mself\u001b[39;49m\u001b[43m.\u001b[49m\u001b[43mname\u001b[49m\u001b[43m,\u001b[49m\n\u001b[32m    254\u001b[39m \u001b[43m        \u001b[49m\u001b[38;5;28;43mlist\u001b[39;49m\u001b[43m(\u001b[49m\u001b[43margs\u001b[49m\u001b[43m)\u001b[49m\u001b[43m,\u001b[49m\n\u001b[32m    255\u001b[39m \u001b[43m        \u001b[49m\u001b[38;5;28;43mlen\u001b[39;49m\u001b[43m(\u001b[49m\u001b[38;5;28;43mself\u001b[39;49m\u001b[43m.\u001b[49m\u001b[43mfunction_type\u001b[49m\u001b[43m.\u001b[49m\u001b[43mflat_outputs\u001b[49m\u001b[43m)\u001b[49m\u001b[43m,\u001b[49m\n\u001b[32m    256\u001b[39m \u001b[43m    \u001b[49m\u001b[43m)\u001b[49m\n\u001b[32m    257\u001b[39m   \u001b[38;5;28;01melse\u001b[39;00m:\n\u001b[32m    258\u001b[39m     outputs = make_call_op_in_graph(\n\u001b[32m    259\u001b[39m         \u001b[38;5;28mself\u001b[39m,\n\u001b[32m    260\u001b[39m         \u001b[38;5;28mlist\u001b[39m(args),\n\u001b[32m    261\u001b[39m         \u001b[38;5;28mself\u001b[39m._bound_context.function_call_options.as_attrs(),\n\u001b[32m    262\u001b[39m     )\n",
      "\u001b[36mFile \u001b[39m\u001b[32mc:\\Users\\conny\\OneDrive\\Documents\\Projects\\wind_graph\\kaggle_wind_speed\\Lib\\site-packages\\tensorflow\\python\\eager\\context.py:1479\u001b[39m, in \u001b[36mContext.call_function\u001b[39m\u001b[34m(self, name, tensor_inputs, num_outputs)\u001b[39m\n\u001b[32m   1477\u001b[39m cancellation_context = cancellation.context()\n\u001b[32m   1478\u001b[39m \u001b[38;5;28;01mif\u001b[39;00m cancellation_context \u001b[38;5;129;01mis\u001b[39;00m \u001b[38;5;28;01mNone\u001b[39;00m:\n\u001b[32m-> \u001b[39m\u001b[32m1479\u001b[39m   outputs = \u001b[43mexecute\u001b[49m\u001b[43m.\u001b[49m\u001b[43mexecute\u001b[49m\u001b[43m(\u001b[49m\n\u001b[32m   1480\u001b[39m \u001b[43m      \u001b[49m\u001b[43mname\u001b[49m\u001b[43m.\u001b[49m\u001b[43mdecode\u001b[49m\u001b[43m(\u001b[49m\u001b[33;43m\"\u001b[39;49m\u001b[33;43mutf-8\u001b[39;49m\u001b[33;43m\"\u001b[39;49m\u001b[43m)\u001b[49m\u001b[43m,\u001b[49m\n\u001b[32m   1481\u001b[39m \u001b[43m      \u001b[49m\u001b[43mnum_outputs\u001b[49m\u001b[43m=\u001b[49m\u001b[43mnum_outputs\u001b[49m\u001b[43m,\u001b[49m\n\u001b[32m   1482\u001b[39m \u001b[43m      \u001b[49m\u001b[43minputs\u001b[49m\u001b[43m=\u001b[49m\u001b[43mtensor_inputs\u001b[49m\u001b[43m,\u001b[49m\n\u001b[32m   1483\u001b[39m \u001b[43m      \u001b[49m\u001b[43mattrs\u001b[49m\u001b[43m=\u001b[49m\u001b[43mattrs\u001b[49m\u001b[43m,\u001b[49m\n\u001b[32m   1484\u001b[39m \u001b[43m      \u001b[49m\u001b[43mctx\u001b[49m\u001b[43m=\u001b[49m\u001b[38;5;28;43mself\u001b[39;49m\u001b[43m,\u001b[49m\n\u001b[32m   1485\u001b[39m \u001b[43m  \u001b[49m\u001b[43m)\u001b[49m\n\u001b[32m   1486\u001b[39m \u001b[38;5;28;01melse\u001b[39;00m:\n\u001b[32m   1487\u001b[39m   outputs = execute.execute_with_cancellation(\n\u001b[32m   1488\u001b[39m       name.decode(\u001b[33m\"\u001b[39m\u001b[33mutf-8\u001b[39m\u001b[33m\"\u001b[39m),\n\u001b[32m   1489\u001b[39m       num_outputs=num_outputs,\n\u001b[32m   (...)\u001b[39m\u001b[32m   1493\u001b[39m       cancellation_manager=cancellation_context,\n\u001b[32m   1494\u001b[39m   )\n",
      "\u001b[36mFile \u001b[39m\u001b[32mc:\\Users\\conny\\OneDrive\\Documents\\Projects\\wind_graph\\kaggle_wind_speed\\Lib\\site-packages\\tensorflow\\python\\eager\\execute.py:60\u001b[39m, in \u001b[36mquick_execute\u001b[39m\u001b[34m(op_name, num_outputs, inputs, attrs, ctx, name)\u001b[39m\n\u001b[32m     53\u001b[39m   \u001b[38;5;66;03m# Convert any objects of type core_types.Tensor to Tensor.\u001b[39;00m\n\u001b[32m     54\u001b[39m   inputs = [\n\u001b[32m     55\u001b[39m       tensor_conversion_registry.convert(t)\n\u001b[32m     56\u001b[39m       \u001b[38;5;28;01mif\u001b[39;00m \u001b[38;5;28misinstance\u001b[39m(t, core_types.Tensor)\n\u001b[32m     57\u001b[39m       \u001b[38;5;28;01melse\u001b[39;00m t\n\u001b[32m     58\u001b[39m       \u001b[38;5;28;01mfor\u001b[39;00m t \u001b[38;5;129;01min\u001b[39;00m inputs\n\u001b[32m     59\u001b[39m   ]\n\u001b[32m---> \u001b[39m\u001b[32m60\u001b[39m   tensors = \u001b[43mpywrap_tfe\u001b[49m\u001b[43m.\u001b[49m\u001b[43mTFE_Py_Execute\u001b[49m\u001b[43m(\u001b[49m\u001b[43mctx\u001b[49m\u001b[43m.\u001b[49m\u001b[43m_handle\u001b[49m\u001b[43m,\u001b[49m\u001b[43m \u001b[49m\u001b[43mdevice_name\u001b[49m\u001b[43m,\u001b[49m\u001b[43m \u001b[49m\u001b[43mop_name\u001b[49m\u001b[43m,\u001b[49m\n\u001b[32m     61\u001b[39m \u001b[43m                                      \u001b[49m\u001b[43minputs\u001b[49m\u001b[43m,\u001b[49m\u001b[43m \u001b[49m\u001b[43mattrs\u001b[49m\u001b[43m,\u001b[49m\u001b[43m \u001b[49m\u001b[43mnum_outputs\u001b[49m\u001b[43m)\u001b[49m\n\u001b[32m     62\u001b[39m \u001b[38;5;28;01mexcept\u001b[39;00m core._NotOkStatusException \u001b[38;5;28;01mas\u001b[39;00m e:\n\u001b[32m     63\u001b[39m   \u001b[38;5;28;01mif\u001b[39;00m name \u001b[38;5;129;01mis\u001b[39;00m \u001b[38;5;129;01mnot\u001b[39;00m \u001b[38;5;28;01mNone\u001b[39;00m:\n",
      "\u001b[31mKeyboardInterrupt\u001b[39m: "
     ]
    }
   ],
   "source": [
    "\n",
    "model = BDB22GNN()\n",
    "model.compile('adam', \"mean_absolute_error\")#\"\"mean_absolute_error\n",
    "\n",
    "\n",
    "model.fit(loader_tr.load(), validation_data= loader_val.load(), steps_per_epoch=loader_tr.steps_per_epoch,validation_steps=loader_val.steps_per_epoch,\n",
    "     epochs=epochs)#\n",
    "test_loss = model.evaluate(loader_te.load(), steps=loader_te.steps_per_epoch)\n",
    "\n",
    "print('Test loss: {}'.format(test_loss))\n",
    "  \n",
    "\n",
    "predictions = model.predict(loader_te.load(), steps =loader_te.steps_per_epoch)\n",
    "\n"
   ]
  },
  {
   "cell_type": "code",
   "execution_count": null,
   "metadata": {},
   "outputs": [
    {
     "data": {
      "text/plain": [
       "64512"
      ]
     },
     "execution_count": 66,
     "metadata": {},
     "output_type": "execute_result"
    }
   ],
   "source": [
    "predictions_clean = np.argmax(predictions < 0.5, axis=1) \n",
    "len(predictions_clean)"
   ]
  },
  {
   "cell_type": "code",
   "execution_count": null,
   "metadata": {},
   "outputs": [
    {
     "data": {
      "text/plain": [
       "array([[1., 1., 1., ..., 1., 1., 1.],\n",
       "       [1., 1., 1., ..., 1., 1., 1.],\n",
       "       [1., 1., 1., ..., 1., 1., 1.],\n",
       "       ...,\n",
       "       [1., 1., 1., ..., 1., 1., 1.],\n",
       "       [1., 1., 1., ..., 1., 1., 1.],\n",
       "       [1., 1., 1., ..., 1., 1., 1.]], dtype=float32)"
      ]
     },
     "execution_count": 67,
     "metadata": {},
     "output_type": "execute_result"
    }
   ],
   "source": [
    "predictions"
   ]
  },
  {
   "cell_type": "code",
   "execution_count": null,
   "metadata": {},
   "outputs": [
    {
     "data": {
      "text/plain": [
       "0"
      ]
     },
     "execution_count": 68,
     "metadata": {},
     "output_type": "execute_result"
    }
   ],
   "source": [
    "sum(predictions_clean)"
   ]
  },
  {
   "cell_type": "code",
   "execution_count": null,
   "metadata": {},
   "outputs": [],
   "source": [
    "\n",
    "np.savetxt(\"predictionsv14.csv\", predictions_clean, delimiter=\",\")#predictions_clean,"
   ]
  }
 ],
 "metadata": {
  "kernelspec": {
   "display_name": "kaggle_wind_speed",
   "language": "python",
   "name": "python3"
  },
  "language_info": {
   "codemirror_mode": {
    "name": "ipython",
    "version": 3
   },
   "file_extension": ".py",
   "mimetype": "text/x-python",
   "name": "python",
   "nbconvert_exporter": "python",
   "pygments_lexer": "ipython3",
   "version": "3.11.9"
  }
 },
 "nbformat": 4,
 "nbformat_minor": 2
}
